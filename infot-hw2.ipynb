{
 "cells": [
  {
   "cell_type": "code",
   "execution_count": 2,
   "metadata": {
    "collapsed": true
   },
   "outputs": [],
   "source": [
    "import numpy as np\n",
    "import scipy\n",
    "from scipy import stats\n",
    "import matplotlib.pyplot as plt\n",
    "%matplotlib inline\n",
    "\n",
    "np.random.seed(1234)"
   ]
  },
  {
   "cell_type": "markdown",
   "metadata": {},
   "source": [
    "## Problem 1"
   ]
  },
  {
   "cell_type": "markdown",
   "metadata": {},
   "source": [
    "Because entropies are nonnegative\n",
    "$$\n",
    "I(X;Y) = H(X) - H(X|Y) \\leq H(X)\n",
    "$$\n",
    "$$\n",
    "I(X;Y) = H(Y) - H(Y|X) \\leq H(Y)\n",
    "$$\n",
    "so\n",
    "$$\n",
    "I(X;Y) \\leq \\min(H(X), H(Y))\n",
    "$$"
   ]
  },
  {
   "cell_type": "markdown",
   "metadata": {},
   "source": [
    "## Problem 2"
   ]
  },
  {
   "cell_type": "markdown",
   "metadata": {},
   "source": [
    "$$\n",
    "\\begin{aligned}\n",
    "I(XZ;Y) &= H(XZ) - H(XZ|Y) \\\\\n",
    "&= H(Z) + H(X|Z) - (H(Z|Y) + H(X|Y,Z)) \\\\\n",
    "&= I(Z;Y) + I(X;Y|Z)\n",
    "\\end{aligned}\n",
    "$$\n",
    "Iteratively applying above equation to $I(X_1,\\dots,X_n;Y)$, we get\n",
    "$$\n",
    "I(X_1,\\dots,X_n;Y) = \\sum_{i=1}^n I(X_i;Y|X_1,\\dots,X_{i-1})\n",
    "$$"
   ]
  },
  {
   "cell_type": "markdown",
   "metadata": {},
   "source": [
    "## Problem 3"
   ]
  },
  {
   "cell_type": "markdown",
   "metadata": {},
   "source": [
    "$$\n",
    "\\begin{aligned}\n",
    "I(X;Y) - I(X;Z) &= (H(X) - H(X|Y)) - (H(X) - H(X|Z)) \\\\\n",
    "&= H(X|Z) - H(X|Y) \\\\\n",
    "&= H(Y|Z) \\geq 0\n",
    "\\end{aligned}\n",
    "$$\n",
    "so $I(X;Y) \\geq I(X;Z)$.\n",
    "Similarly $I(Y;Z) \\geq I(X;Z)$."
   ]
  },
  {
   "cell_type": "markdown",
   "metadata": {},
   "source": [
    "## Problem 4"
   ]
  },
  {
   "cell_type": "markdown",
   "metadata": {},
   "source": [
    "First we know that for binary variable X,\n",
    "$$\n",
    "0 \\leq H(X) \\leq 1\\;\\mathrm{bit}\n",
    "$$\n",
    "From $I(X;Y) = 0$, we know $X \\perp Y$. And\n",
    "$$\n",
    "I(X;Y|Z) = H(Y|Z) - H(Y|X,Z) = 1 \\mathrm{bit}\n",
    "$$\n",
    "Because $H(Y|Z) \\leq 1 \\mathrm{bit}$, $H(Y|X,Z) \\geq 0$\n",
    "$$\n",
    "H(Y|Z) = 1 \\mathrm{bit}\n",
    "$$\n",
    "And because $H(Y|Z) \\leq H(Y) \\leq 1 \\mathrm{bit}$, we get\n",
    "$$\n",
    "H(Y) = H(Y|Z)\n",
    "$$\n",
    "which means $Y \\perp Z$. The same way we have $X \\perp Z$. Thus every pair is independent, but given Z, X,Y are not independent. In fact, because $H(Y|X,Z) = 0$, The relation between Y and X is deterministic given Z.\n",
    "One example is \n",
    "$$\n",
    "p(X=1) = 0.5,\\;\n",
    "p(Y=1) = 0.5,\\;\n",
    "X \\perp Y,\\;\n",
    "Z = X \\oplus Y\n",
    "$$\n",
    "\n",
    "| X,Y,Z | probability |\n",
    "| --- | :---: |\n",
    "| 0,0,0 | 0.25 |\n",
    "| 0,0,1 | 0 |\n",
    "| 0,1,0 | 0 |\n",
    "| 0,1,1 | 0.25 |\n",
    "| 1,0,0 | 0 |\n",
    "| 1,0,1 | 0.25 |\n",
    "| 1,1,0 | 0.25 |\n",
    "| 1,1,1 | 0 |\n"
   ]
  },
  {
   "cell_type": "markdown",
   "metadata": {},
   "source": [
    "## Problem 5"
   ]
  },
  {
   "cell_type": "markdown",
   "metadata": {},
   "source": [
    "$$\n",
    "\\begin{aligned}\n",
    "p(x|y,z) &= \\frac{p(x,y,z)}{p(y,z)} \\\\\n",
    "&= \\frac{p(x)p(y|x)p(z|y)}{p(z|y)p(y)} \\\\\n",
    "&= \\frac{p(x)p(y|x)}{p(y)} \\\\\n",
    "&= p(x|y)\n",
    "\\end{aligned}\n",
    "$$\n",
    "Thus it's direct to show that\n",
    "$$\n",
    "H(X|Y,Z) = H(X|Y)\n",
    "$$\n",
    "So\n",
    "$$\n",
    "\\begin{aligned}\n",
    "I(X;Y) - I(X;Y|Z) &= H(X) - H(X|Y) - H(X|Z) + H(X|Y,Z) \\\\\n",
    "&= H(X) - H(X|Z) \\\\\n",
    "&\\geq 0\n",
    "\\end{aligned}\n",
    "$$"
   ]
  },
  {
   "cell_type": "markdown",
   "metadata": {
    "collapsed": true
   },
   "source": [
    "## Problem 6"
   ]
  },
  {
   "cell_type": "markdown",
   "metadata": {},
   "source": [
    "The lagrange objective\n",
    "$$\n",
    "\\mathcal{L}(p, \\lambda) = -\\int_a^b p(x)\\log p(x)dx + \\lambda(\\int_a^b p(x)dx - 1)\n",
    "$$\n",
    "According to Euler-Lagrange formula\n",
    "$$\n",
    "\\log p(x) + 1 - \\lambda = 0\n",
    "$$\n",
    "so we get\n",
    "$$\n",
    "p(x) = e^{\\lambda - 1}\n",
    "$$\n",
    "which means that $p(x)$ is a uniform distribution. We can further determine\n",
    "$$\n",
    "\\lambda = 1 - \\ln(b-a)\n",
    "$$"
   ]
  },
  {
   "cell_type": "markdown",
   "metadata": {
    "collapsed": true
   },
   "source": [
    "## Problem 7"
   ]
  },
  {
   "cell_type": "markdown",
   "metadata": {},
   "source": [
    "#### (1)\n",
    "$$\n",
    "\\begin{aligned}\n",
    "H(X_1,X_2) &= -\\int p(x_1,x_2)\\log p(x_1,x_2)\\;dx_1dx_2 \\\\\n",
    "&= -\\int p(x_1,x_2)\\left[-\\ln 2\\pi - \\frac{1}{2}\\ln |K| - \\frac{1}{2}(x-\\mu)^TK^{-1}(x-\\mu)\\right]\\;dx_1dx_2 \\\\\n",
    "&= \\ln 2\\pi + \\frac{1}{2}\\ln |K| + \\frac{1}{2}\\mathbb{E}\\left[(x-\\mu)^TK^{-1}(x-\\mu)\\right]\n",
    "\\end{aligned}\n",
    "$$\n",
    "Note that $(x-\\mu)^TK^{-1}(x-\\mu)$ is the sum of the square of k independent standard normal variables, which is distributed according to $\\chi_2^2$.\n",
    "$$\n",
    "H(X_1,X_2) = \\ln 2\\pi + \\frac{1}{2}\\ln |K| + \\frac{1}{2}\\cdot 2 = \\ln 2\\pi + \\frac{1}{2}\\ln |K| + 1\n",
    "$$"
   ]
  },
  {
   "cell_type": "markdown",
   "metadata": {},
   "source": [
    "#### (2)\n",
    "$$\n",
    "X_1 \\sim \\mathcal{N}(\\mu_1, K_{00})\n",
    "$$\n",
    "So $H(X_1) = \\frac{1}{2}\\ln (2\\pi K_{00}e)$\n",
    "$$\n",
    "X_2 \\sim \\mathcal{N}(\\mu_2, K_{11})\n",
    "$$\n",
    "$H(X_2) = \\frac{1}{2}\\ln (2\\pi K_{11}e)$\n",
    "$$\n",
    "I(X_1,X_2) = H(X_1) + H(X_2) - H(X_1,X_2) = \\frac{1}{2}\\ln \\frac{K_{00}K_{11}}{|K|}\n",
    "$$"
   ]
  },
  {
   "cell_type": "markdown",
   "metadata": {},
   "source": [
    "## Problem 8"
   ]
  },
  {
   "cell_type": "markdown",
   "metadata": {},
   "source": [
    "#### (1)\n",
    "$$\n",
    "K = \\begin{pmatrix}\n",
    "1 & \\rho \\\\\n",
    "\\rho & 1\n",
    "\\end{pmatrix}\n",
    "$$\n",
    "According to results in Problem 7\n",
    "$$\n",
    "I(X_1,X_2) = \\frac{1}{2}\\ln\\frac{1}{1-\\rho^2}\n",
    "$$\n",
    "So for different values of $\\rho$, $I(X_1, X_2)$ are"
   ]
  },
  {
   "cell_type": "code",
   "execution_count": 6,
   "metadata": {
    "collapsed": false
   },
   "outputs": [
    {
     "name": "stdout",
     "output_type": "stream",
     "text": [
      "Corr = 0.2: I(X1, X2) = 0.02\n",
      "Corr = 0.5: I(X1, X2) = 0.14\n",
      "Corr = 0.9: I(X1, X2) = 0.83\n"
     ]
    }
   ],
   "source": [
    "for p in [.2, .5, .9]:\n",
    "    print 'Corr = %s: I(X1, X2) = %.2f' % (p, -0.5*np.log(1. - p**2))"
   ]
  },
  {
   "cell_type": "markdown",
   "metadata": {},
   "source": [
    "#### (2)\n",
    "$$\n",
    "I(X_1, X_2) = \\mathbb{E}_{p(x_1, x_2)}\\ln\\frac{p(x_1,x_2)}{p(x_1)p(x_2)}\n",
    "$$\n",
    "So we use 1000 samples to estimate the expectation"
   ]
  },
  {
   "cell_type": "code",
   "execution_count": 14,
   "metadata": {
    "collapsed": false
   },
   "outputs": [
    {
     "name": "stdout",
     "output_type": "stream",
     "text": [
      "Corr = 0.2, Estimated I(X1, X2) = 0.02\n",
      "Corr = 0.5, Estimated I(X1, X2) = 0.15\n",
      "Corr = 0.9, Estimated I(X1, X2) = 0.81\n"
     ]
    }
   ],
   "source": [
    "for p in [.2, .5, .9]:\n",
    "    mean = [0, 0]\n",
    "    cov = [[1, p], [p, 1]]\n",
    "    samples = np.random.multivariate_normal(mean, cov, size=1000)\n",
    "    I = np.log(stats.multivariate_normal.pdf(samples, mean, cov)) - \\\n",
    "               np.log(stats.norm.pdf(samples[:, 0])) - np.log(stats.norm.pdf(samples[:, 1]))\n",
    "    print 'Corr = %s, Estimated I(X1, X2) = %.2f' % (p, I.mean())"
   ]
  }
 ],
 "metadata": {
  "kernelspec": {
   "display_name": "Python 2",
   "language": "python",
   "name": "python2"
  },
  "language_info": {
   "codemirror_mode": {
    "name": "ipython",
    "version": 2
   },
   "file_extension": ".py",
   "mimetype": "text/x-python",
   "name": "python",
   "nbconvert_exporter": "python",
   "pygments_lexer": "ipython2",
   "version": "2.7.12"
  }
 },
 "nbformat": 4,
 "nbformat_minor": 0
}
