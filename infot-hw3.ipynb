{
 "cells": [
  {
   "cell_type": "code",
   "execution_count": 7,
   "metadata": {
    "collapsed": true
   },
   "outputs": [],
   "source": [
    "import numpy as np\n",
    "import scipy\n",
    "from scipy import stats\n",
    "import matplotlib.pyplot as plt\n",
    "%matplotlib inline\n",
    "\n",
    "np.random.seed(1234)"
   ]
  },
  {
   "cell_type": "markdown",
   "metadata": {},
   "source": [
    "## Problem 1"
   ]
  },
  {
   "cell_type": "markdown",
   "metadata": {},
   "source": [
    "#### 1.\n",
    "$$\n",
    "\\mathrm{Var}(X) = 0.75\\times 0.25\n",
    "$$\n",
    "According to The Central Limit Theorem\n",
    "$$\n",
    "\\sqrt{N}(\\frac{1}{N}\\log\\frac{1}{p(X)} - H(X)) \\xrightarrow{d} \\mathcal{N}(0, \\mathrm{Var}(X))\n",
    "$$\n",
    "So \n",
    "$$\n",
    "2\\left[1 - \\Phi\\left(\\frac{\\delta}{\\sqrt{\\mathrm{Var}(X)/N}}\\right)\\right] \\leq \\epsilon\n",
    "$$\n",
    "Solve and we get\n",
    "$$\n",
    "N \\geq \\frac{\\Phi^{-1}(0.995)^2\\mathrm{Var}(X)}{0.05^2}\n",
    "$$"
   ]
  },
  {
   "cell_type": "code",
   "execution_count": 8,
   "metadata": {
    "collapsed": false
   },
   "outputs": [
    {
     "name": "stdout",
     "output_type": "stream",
     "text": [
      "N0 = 497\n"
     ]
    }
   ],
   "source": [
    "print 'N0 = %d' % int(stats.norm.ppf(0.995)**2 * 0.75*0.25 / 0.05**2)"
   ]
  },
  {
   "cell_type": "markdown",
   "metadata": {},
   "source": [
    "#### 2.\n",
    "$$\n",
    "\\text{Number of typical sequences in the typical set} = 2^{N_0H(X)}\n",
    "$$"
   ]
  },
  {
   "cell_type": "code",
   "execution_count": 11,
   "metadata": {
    "collapsed": false
   },
   "outputs": [
    {
     "name": "stdout",
     "output_type": "stream",
     "text": [
      "Number of typical sequences in the typical set: 2.38159545722e+121\n"
     ]
    }
   ],
   "source": [
    "print 'Number of typical sequences in the typical set:', 2**(\n",
    "    497*(-0.75*np.log2(0.75) - 0.25*np.log2(0.25)))"
   ]
  },
  {
   "cell_type": "markdown",
   "metadata": {},
   "source": [
    "#### 3.\n",
    "$$\n",
    "P(X) = 2^{-NH(X)}\n",
    "$$"
   ]
  },
  {
   "cell_type": "code",
   "execution_count": 14,
   "metadata": {
    "collapsed": false
   },
   "outputs": [
    {
     "name": "stdout",
     "output_type": "stream",
     "text": [
      "P(X) = 3.78525351296e-25\n"
     ]
    }
   ],
   "source": [
    "print 'P(X) =', 2**(-100 * (-0.75*np.log2(0.75) - 0.25*np.log2(0.25)))"
   ]
  },
  {
   "cell_type": "markdown",
   "metadata": {},
   "source": [
    "## Problem 2"
   ]
  },
  {
   "cell_type": "markdown",
   "metadata": {},
   "source": [
    "#### (1)\n",
    "Number of required sequences\n",
    "$$\n",
    "\\sum_{k=0}^3 {100 \\choose k} \n",
    "$$\n",
    "Because the required code is fixed length, so the number of bits required is\n",
    "$$\n",
    "\\log \\sum_{k=0}^3 {100 \\choose k}\n",
    "$$"
   ]
  },
  {
   "cell_type": "code",
   "execution_count": 18,
   "metadata": {
    "collapsed": false
   },
   "outputs": [
    {
     "name": "stdout",
     "output_type": "stream",
     "text": [
      "Number of bits required: 18\n"
     ]
    }
   ],
   "source": [
    "from scipy.misc import comb\n",
    "print 'Number of bits required:', int(np.ceil(np.log2(\n",
    "        np.sum([comb(100, k) for k in xrange(4)]))))"
   ]
  },
  {
   "cell_type": "markdown",
   "metadata": {},
   "source": [
    "#### (2)"
   ]
  },
  {
   "cell_type": "markdown",
   "metadata": {},
   "source": [
    "The result is the same as (1): 18"
   ]
  },
  {
   "cell_type": "markdown",
   "metadata": {},
   "source": [
    "## Problem 3"
   ]
  },
  {
   "cell_type": "markdown",
   "metadata": {},
   "source": [
    "#### (a)\n",
    "C2, C3, C5\n",
    "#### (b)\n",
    "C2, C3, C5"
   ]
  },
  {
   "cell_type": "markdown",
   "metadata": {},
   "source": [
    "## Problem 4"
   ]
  },
  {
   "cell_type": "markdown",
   "metadata": {},
   "source": [
    "#### (1)"
   ]
  },
  {
   "cell_type": "code",
   "execution_count": 23,
   "metadata": {
    "collapsed": false
   },
   "outputs": [
    {
     "name": "stdout",
     "output_type": "stream",
     "text": [
      "H(p): 1.875\n",
      "H(q): 2.0\n",
      "D(p||q): 0.125\n",
      "D(q||p): 0.125\n"
     ]
    }
   ],
   "source": [
    "p = np.array([1./2, 1./4, 1./8, 1./16, 1./16])\n",
    "q = np.array([1./2, 1./8, 1./8, 1./8, 1./8])\n",
    "print 'H(p):', -np.sum(p*np.log2(p))\n",
    "print 'H(q):', -np.sum(q*np.log2(q))\n",
    "print 'D(p||q):', np.sum(p*(np.log2(p) - np.log2(q)))\n",
    "print 'D(q||p):', np.sum(q*(np.log2(q) - np.log2(p)))"
   ]
  },
  {
   "cell_type": "markdown",
   "metadata": {},
   "source": [
    "#### (2)"
   ]
  },
  {
   "cell_type": "markdown",
   "metadata": {},
   "source": [
    "* $C_1$: Optimal\n",
    "* $C_2$: Not optimal"
   ]
  },
  {
   "cell_type": "markdown",
   "metadata": {},
   "source": [
    "#### (3,4)"
   ]
  },
  {
   "cell_type": "code",
   "execution_count": 27,
   "metadata": {
    "collapsed": false
   },
   "outputs": [
    {
     "name": "stdout",
     "output_type": "stream",
     "text": [
      "L(C2) - H(p): 0.125\n",
      "L(C1) - H(q): 0.125\n"
     ]
    }
   ],
   "source": [
    "c1_len = np.array([1., 2., 3., 4., 4.])\n",
    "c2_len = np.array([1., 3., 3., 3., 3.])\n",
    "print 'L(C2) - H(p):', np.sum(p*c2_len) - (-np.sum(p*np.log2(p)))\n",
    "print 'L(C1) - H(q):', np.sum(q*c1_len) - (-np.sum(q*np.log2(q)))"
   ]
  }
 ],
 "metadata": {
  "kernelspec": {
   "display_name": "Python 2",
   "language": "python",
   "name": "python2"
  },
  "language_info": {
   "codemirror_mode": {
    "name": "ipython",
    "version": 2
   },
   "file_extension": ".py",
   "mimetype": "text/x-python",
   "name": "python",
   "nbconvert_exporter": "python",
   "pygments_lexer": "ipython2",
   "version": "2.7.12"
  }
 },
 "nbformat": 4,
 "nbformat_minor": 0
}
