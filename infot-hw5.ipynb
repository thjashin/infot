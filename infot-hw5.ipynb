{
 "cells": [
  {
   "cell_type": "code",
   "execution_count": 19,
   "metadata": {
    "collapsed": true
   },
   "outputs": [],
   "source": [
    "import numpy as np\n",
    "import scipy\n",
    "from scipy import stats\n",
    "import matplotlib.pyplot as plt\n",
    "%matplotlib inline\n",
    "\n",
    "np.random.seed(1234)"
   ]
  },
  {
   "cell_type": "markdown",
   "metadata": {},
   "source": [
    "## Problem 1"
   ]
  },
  {
   "cell_type": "markdown",
   "metadata": {},
   "source": [
    "#### (a)"
   ]
  },
  {
   "cell_type": "markdown",
   "metadata": {},
   "source": [
    "We plot the entropy of length $N$ sequences $H(X_1, \\dots, X_N)$ from the source."
   ]
  },
  {
   "cell_type": "code",
   "execution_count": 20,
   "metadata": {
    "collapsed": false
   },
   "outputs": [
    {
     "name": "stdout",
     "output_type": "stream",
     "text": [
      "N=1:5, [1.9745069489027967, 1.9590429154676035, 1.9508013221506304, 1.9447788910837143, 1.9375541100075002]\n"
     ]
    },
    {
     "data": {
      "image/png": "[encoded data removed]",
      "text/plain": [
       "<matplotlib.figure.Figure at 0x7f51f3477a50>"
      ]
     },
     "metadata": {},
     "output_type": "display_data"
    }
   ],
   "source": [
    "with open('hw5/sequence.txt', 'r') as f:\n",
    "    src = f.read().strip()\n",
    "M = len(src)\n",
    "from collections import Counter\n",
    "HN = []\n",
    "for N in xrange(1, 50):\n",
    "    seq_list = [src[i:(i+N)] for i in xrange(M-N+1)]\n",
    "    seq_cnts = Counter(seq_list)\n",
    "    p = np.array(seq_cnts.values(), dtype='float')\n",
    "    p /= M - N + 1\n",
    "    ent = 1. / N * (-np.sum(p*np.log2(p)))\n",
    "    HN.append(ent)\n",
    "_ = plt.plot(xrange(1, 50), HN)\n",
    "print 'N=1:5,', HN[:5]"
   ]
  },
  {
   "cell_type": "markdown",
   "metadata": {},
   "source": [
    "We can see that the estimated entropy converges to around 1.94 before the estimation goes inaccurate."
   ]
  },
  {
   "cell_type": "markdown",
   "metadata": {},
   "source": [
    "#### (b)"
   ]
  },
  {
   "cell_type": "markdown",
   "metadata": {},
   "source": [
    "##### Huffman"
   ]
  },
  {
   "cell_type": "code",
   "execution_count": 21,
   "metadata": {
    "collapsed": false,
    "scrolled": false
   },
   "outputs": [
    {
     "name": "stdout",
     "output_type": "stream",
     "text": [
      "Counter({'t': 9143, 'a': 8481, 'g': 6187, 'c': 5940})\n",
      "a: 0.29\n",
      "c: 0.20\n",
      "t: 0.31\n",
      "g: 0.21\n"
     ]
    }
   ],
   "source": [
    "letter_cnt = Counter(list(src))\n",
    "print letter_cnt\n",
    "for k, v in letter_cnt.iteritems():\n",
    "    print '%s: %.2f' % (k, v * 1. / len(src))"
   ]
  },
  {
   "cell_type": "code",
   "execution_count": 22,
   "metadata": {
    "collapsed": false
   },
   "outputs": [],
   "source": [
    "codes = {'a': '10', 't': '11', 'c': '01', 'g': '00'}\n",
    "out_huffman = ''.join(map(lambda x: codes[x], src))\n",
    "# print out_huffman"
   ]
  },
  {
   "cell_type": "markdown",
   "metadata": {},
   "source": [
    "##### Arithmetic\n",
    "We use the laplace model here.\n",
    "$$\n",
    "p(a|x_1, \\dots, x_{n-1}) = \\frac{F_a + 1}{\\sum_{a'}(F_{a'} + 1)}\n",
    "$$"
   ]
  },
  {
   "cell_type": "code",
   "execution_count": 26,
   "metadata": {
    "collapsed": false,
    "scrolled": true
   },
   "outputs": [],
   "source": [
    "from collections import defaultdict\n",
    "import decimal\n",
    "from decimal import Decimal\n",
    "decimal.getcontext().prec=100\n",
    "\n",
    "u = Decimal(0.)\n",
    "v = Decimal(1.)\n",
    "p = v - u\n",
    "index = {'a': 1, 'c': 2, 't': 3, 'g': 4}\n",
    "cnt = np.array([0, 1, 1, 1, 1], dtype='float')\n",
    "f = cnt / cnt.sum()\n",
    "N = len(src)\n",
    "for i, s in enumerate(src):\n",
    "    qn = Decimal(f[:(index[s])].sum())\n",
    "    rn = Decimal(f[:(index[s] + 1)].sum())\n",
    "    v = u + p*rn\n",
    "    u = u + p*qn\n",
    "    cnt[index[s]] += 1\n",
    "    f = cnt / cnt.sum()\n",
    "    p = v - u\n",
    "# print u\n",
    "# print v"
   ]
  }
 ],
 "metadata": {
  "kernelspec": {
   "display_name": "Python 2",
   "language": "python",
   "name": "python2"
  },
  "language_info": {
   "codemirror_mode": {
    "name": "ipython",
    "version": 2
   },
   "file_extension": ".py",
   "mimetype": "text/x-python",
   "name": "python",
   "nbconvert_exporter": "python",
   "pygments_lexer": "ipython2",
   "version": "2.7.11+"
  }
 },
 "nbformat": 4,
 "nbformat_minor": 0
}
