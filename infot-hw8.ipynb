{
 "cells": [
  {
   "cell_type": "code",
   "execution_count": 155,
   "metadata": {
    "collapsed": true
   },
   "outputs": [],
   "source": [
    "import numpy as np\n",
    "import scipy\n",
    "from scipy import stats\n",
    "import matplotlib.pyplot as plt\n",
    "%matplotlib inline\n",
    "\n",
    "np.random.seed(1234)"
   ]
  },
  {
   "cell_type": "markdown",
   "metadata": {},
   "source": [
    "## Problem 1"
   ]
  },
  {
   "cell_type": "markdown",
   "metadata": {},
   "source": [
    "For Z channel of input probability $p(X=1) = p$, error probability $f = 0.5$\n",
    "$$\n",
    "\\begin{aligned}\n",
    "I(X;Y) &= H(Y) - H(Y|X) \\\\\n",
    "&= H_2((1-f)p) - pH_2(f) \\\\\n",
    "&= H_2(0.5p) - pH_2(0.5) \\\\\n",
    "&= H_2(0.5p) - p\n",
    "\\end{aligned}\n",
    "$$\n",
    "Take derivative wrt. p and let it be zero, we get\n",
    "$$\n",
    "p^* = 0.4\n",
    "$$\n",
    "Thus the capacity of this channel is only achieved when $p(X=1) = 0.4$. The input with $p(X=1)=0.5$ failed to do that. And the maximum rate this input can achieve is indicated by the mutual information\n",
    "$$\n",
    "I(X;Y) = H_2(0.25) - 0.5 = 0.31\n",
    "$$"
   ]
  },
  {
   "cell_type": "markdown",
   "metadata": {},
   "source": [
    "## Problem 2"
   ]
  },
  {
   "cell_type": "code",
   "execution_count": 156,
   "metadata": {
    "collapsed": false
   },
   "outputs": [
    {
     "name": "stdout",
     "output_type": "stream",
     "text": [
      "N=20, K=10: Pb=0.2014, PB=0.402\n",
      "N=100, K=10: Pb=0.0, PB=0.0\n",
      "N=40, K=20: Pb=0.0034, PB=0.008\n",
      "N=100, K=20: Pb=0.0, PB=0.0\n",
      "N=50, K=25: Pb=0.0, PB=0.0\n",
      "N=100, K=25: Pb=0.0, PB=0.0\n"
     ]
    }
   ],
   "source": [
    "test_seq = ''.join(map(str, stats.bernoulli.rvs(p=0.5, size=10000)))\n",
    "def random_coding(N, K, seq):\n",
    "    if 10000 % K != 0:\n",
    "        return None\n",
    "    listK = [seq[i:(i + K)] for i in xrange(0, 10000 - K + 1, K)]\n",
    "    setK = set(listK)\n",
    "    cntK = len(setK)\n",
    "    codes = stats.bernoulli.rvs(p=0.5, size=(cntK, N))\n",
    "    codebook = {}\n",
    "    i = 0\n",
    "    for block in setK:\n",
    "        code_str = ''.join(map(str, codes[i]))\n",
    "        codebook[block] = codes[i]\n",
    "        i += 1\n",
    "    return codebook, np.array([codebook[s] for s in listK])\n",
    "\n",
    "def transmit(seq_enc, f=0.1):\n",
    "    noise = stats.bernoulli.rvs(f, size=seq_enc.shape)\n",
    "    return np.logical_xor(seq_enc, noise).astype('int')\n",
    "\n",
    "def typical_decode(seq_recv, codebook, f):\n",
    "    seq_dec = ''\n",
    "    for i in xrange(seq_recv.shape[0]):\n",
    "        min_ = 1000\n",
    "        res = None\n",
    "        for k, v in codebook.iteritems():\n",
    "            diff = np.abs((v != seq_recv[i]).sum() - v.shape[0]*f)\n",
    "            if diff < min_:\n",
    "                min_ = diff\n",
    "                res = k\n",
    "        seq_dec += res\n",
    "    return seq_dec\n",
    "\n",
    "def error(N, K):\n",
    "    f = 0.1\n",
    "    codebook, seq_enc = random_coding(N, K, test_seq)\n",
    "    seq_recv = transmit(seq_enc, f=f)\n",
    "    seq_dec = typical_decode(seq_recv, codebook, f=f)\n",
    "    seq_block = np.array(map(int, test_seq)).reshape((-1, K))\n",
    "    seq_dec_block = np.array(map(int, seq_dec)).reshape((-1, K))\n",
    "    check = (seq_block != seq_dec_block)\n",
    "    bit_error = check.sum() * 1. / len(test_seq)\n",
    "    block_error = np.any(check, axis=1).sum() * 1. / check.shape[0]\n",
    "    return bit_error, block_error\n",
    "\n",
    "N = [20, 100, 40, 100, 50, 100]\n",
    "K = [10, 10, 20, 20, 25, 25]\n",
    "for i in xrange(len(N)):\n",
    "    pb, pB = error(N[i], K[i])\n",
    "    print 'N=%d, K=%d: Pb=%s, PB=%s' % (N[i], K[i], pb, pB)"
   ]
  },
  {
   "cell_type": "code",
   "execution_count": 157,
   "metadata": {
    "collapsed": false
   },
   "outputs": [
    {
     "data": {
      "image/png": "[encoded data removed]",
      "text/plain": [
       "<matplotlib.figure.Figure at 0x7f714c4bfbd0>"
      ]
     },
     "metadata": {},
     "output_type": "display_data"
    }
   ],
   "source": [
    "from scipy.misc import comb\n",
    "\n",
    "def perror(N, f):\n",
    "    return np.sum([comb(N, n) * f**n * (1. - f)**(N - n)\n",
    "                   for n in xrange((N+1)/2, N+1)])\n",
    "reps = np.arange(1, 62, 2)\n",
    "rates = 1. / reps\n",
    "plt.figure(figsize=(10,12))\n",
    "_ = plt.plot(rates, map(lambda x: perror(x, 0.1), reps), 'ks--', markerfacecolor='w')\n",
    "typical_rates = [0.5, 0.1, 0.5, 0.2, 0.5, 0.25]\n",
    "pb = [0.2014, 0.0, 0.0034, 0.0, 0.0, 0.0]\n",
    "label = ['N=20', 'N=100', 'N=40', 'N=100', 'N=50', 'N=100']\n",
    "for i in xrange(6):\n",
    "    plt.plot(typical_rates[i], pb[i], 'r^', markersize=10)\n",
    "    plt.text(typical_rates[i] + 0.01, pb[i], label[i])\n",
    "# plt.yscale('log')\n",
    "plt.plot(4./7, 0.07, 'g*', markersize=10)\n",
    "plt.text(4./7 - 0.02, 0.08, 'H(7,4)')\n",
    "_ = plt.ylim([-0.05, 0.25])\n",
    "_ = plt.xlim([0.0, 0.6])"
   ]
  },
  {
   "cell_type": "markdown",
   "metadata": {},
   "source": [
    "We can see that with large $N$, the random coding and typical set decoding can always achieve near-zero error when the rate is less than capacity $C=0.53$."
   ]
  }
 ],
 "metadata": {
  "kernelspec": {
   "display_name": "Python 2",
   "language": "python",
   "name": "python2"
  },
  "language_info": {
   "codemirror_mode": {
    "name": "ipython",
    "version": 2
   },
   "file_extension": ".py",
   "mimetype": "text/x-python",
   "name": "python",
   "nbconvert_exporter": "python",
   "pygments_lexer": "ipython2",
   "version": "2.7.11+"
  }
 },
 "nbformat": 4,
 "nbformat_minor": 0
}
