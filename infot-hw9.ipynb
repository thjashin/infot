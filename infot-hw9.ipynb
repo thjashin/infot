{
 "cells": [
  {
   "cell_type": "markdown",
   "metadata": {},
   "source": [
    "## Problem 1"
   ]
  },
  {
   "cell_type": "markdown",
   "metadata": {},
   "source": [
    "#### Uniform"
   ]
  },
  {
   "cell_type": "code",
   "execution_count": 4,
   "metadata": {
    "collapsed": false
   },
   "outputs": [
    {
     "name": "stderr",
     "output_type": "stream",
     "text": [
      "Undefined function 'lloyds' for input arguments of type 'double'.\n"
     ]
    }
   ],
   "source": [
    "h = 10;\n",
    "x = rand(h,h); % Generate i.i.d. samples following uniform distribution\n",
    "[partition1,codebook1,distor,reldistor] = lloyds(x(:),2^1); % 1 bit\n",
    "[index1,quants1] = quantiz(x(:),partition1,codebook1);\n",
    "x1 = reshape(quants1,h,h);\n",
    "err1 = sum(sum((x - x1).^2)) / 100\n",
    "[partition2,codebook2,distor,reldistor] = lloyds(x(:),2^2); % 2 bits\n",
    "[index2,quants2] = quantiz(x(:),partition2,codebook2);\n",
    "x2 = reshape(quants2,h,h);\n",
    "err2 = sum(sum((x - x2).^2)) / 100\n",
    "t = linspace(0,1,9);\n",
    "[partition3,codebook3,distor,reldistor] = lloyds(x(:),2^3); % 3 bits\n",
    "[index3,quants3] = quantiz(x(:),partition3,codebook3);\n",
    "x3 = reshape(quants3,h,h);\n",
    "err3 = sum(sum((x - x3).^2)) / 100\n",
    "figure(1),subplot(2,2,1),imshow(x),title('Original image');\n",
    "subplot(2,2,2),imshow(x1),title('Reconstructed image (1 bit)');\n",
    "subplot(2,2,3),imshow(x2),title('Reconstructed image (2 bits)');\n",
    "subplot(2,2,4),imshow(x3),title('Reconstructed image (3 bits)');"
   ]
  },
  {
   "cell_type": "markdown",
   "metadata": {},
   "source": [
    "#### Normal"
   ]
  },
  {
   "cell_type": "code",
   "execution_count": 5,
   "metadata": {
    "collapsed": false
   },
   "outputs": [
    {
     "name": "stderr",
     "output_type": "stream",
     "text": [
      "Undefined function 'lloyds' for input arguments of type 'double'.\n"
     ]
    }
   ],
   "source": [
    "h = 10;\n",
    "x = randn(h,h); % Generate i.i.d. samples following normal distribution\n",
    "[partition1,codebook1,distor,reldistor] = lloyds(x(:),2^1); % 1 bit\n",
    "[index1,quants1] = quantiz(x(:),partition1,codebook1);\n",
    "x1 = reshape(quants1,h,h);\n",
    "err1 = sum(sum((x - x1).^2)) / 100\n",
    "[partition2,codebook2,distor,reldistor] = lloyds(x(:),2^2); % 2 bits\n",
    "[index2,quants2] = quantiz(x(:),partition2,codebook2);\n",
    "x2 = reshape(quants2,h,h);\n",
    "err2 = sum(sum((x - x2).^2)) / 100\n",
    "t = linspace(0,1,9);\n",
    "[partition3,codebook3,distor,reldistor] = lloyds(x(:),2^3); % 3 bits\n",
    "[index3,quants3] = quantiz(x(:),partition3,codebook3);\n",
    "x3 = reshape(quants3,h,h);\n",
    "err3 = sum(sum((x - x3).^2)) / 100\n",
    "figure(1),subplot(2,2,1),imshow(x),title('Original image');\n",
    "subplot(2,2,2),imshow(x1),title('Reconstructed image (1 bit)');\n",
    "subplot(2,2,3),imshow(x2),title('Reconstructed image (2 bits)');\n",
    "subplot(2,2,4),imshow(x3),title('Reconstructed image (3 bits)');"
   ]
  },
  {
   "cell_type": "markdown",
   "metadata": {},
   "source": [
    "We observe that when you have 1 bit. Both images have similar error. But with the number of bits available going larger, the normal image is harder to quantize well."
   ]
  }
 ],
 "metadata": {
  "kernelspec": {
   "display_name": "Matlab",
   "language": "matlab",
   "name": "matlab"
  },
  "language_info": {
   "codemirror_mode": "octave",
   "file_extension": ".m",
   "help_links": [
    {
     "text": "MetaKernel Magics",
     "url": "https://github.com/calysto/metakernel/blob/master/metakernel/magics/README.md"
    }
   ],
   "mimetype": "text/x-octave",
   "name": "matlab",
   "version": "0.10.1"
  }
 },
 "nbformat": 4,
 "nbformat_minor": 0
}
