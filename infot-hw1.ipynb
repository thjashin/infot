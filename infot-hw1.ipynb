{
 "cells": [
  {
   "cell_type": "code",
   "execution_count": 1,
   "metadata": {
    "collapsed": true
   },
   "outputs": [],
   "source": [
    "import numpy as np\n",
    "import scipy\n",
    "from scipy import stats\n",
    "import matplotlib.pyplot as plt\n",
    "%matplotlib inline\n",
    "\n",
    "np.random.seed(1234)"
   ]
  },
  {
   "cell_type": "markdown",
   "metadata": {},
   "source": [
    "## Problem 1"
   ]
  },
  {
   "cell_type": "markdown",
   "metadata": {},
   "source": [
    "#### a.\n",
    "$$\n",
    "\\begin{aligned}\n",
    "H(XY) &= \\sum_{i=1}^n\\sum_{j=1}^m p_iq_j\\log\\frac{1}{p_iq_j} \\\\\n",
    "&= \\sum_{i=1}^n p_i\\log\\frac{1}{p_i} \\sum_{j=1}^m q_j + \\sum_{j=1}^m q_j\\log\\frac{1}{q_j} \\sum_{i=1}^n p_i \\\\\n",
    "&= H(X) + H(Y)\n",
    "\\end{aligned}\n",
    "$$"
   ]
  },
  {
   "cell_type": "markdown",
   "metadata": {},
   "source": [
    "#### b.\n",
    "Lagrange objective\n",
    "$$\n",
    "\\mathcal{L}(p, \\lambda) = -p^T\\log p + \\lambda(\\mathbf{1}^Tp - 1)\n",
    "$$\n",
    "Let the derivative to be zero:\n",
    "$$\n",
    "\\nabla_{p}\\mathcal{L}(p,\\lambda) = -\\log_2 p - \\frac{N}{\\ln 2} + \\lambda\\mathbf{1} = 0\n",
    "$$\n",
    "we can get $p_1 = p_2 = \\dots = p_N$, so the maximum is achieved at\n",
    "$$\n",
    "p_1 = p_2 = \\dots = p_N = \\frac{1}{N}\n",
    "$$\n",
    "which implies\n",
    "$$\n",
    "H(p_1, p_2, \\dots, p_N) \\leq H(\\frac{1}{N}, \\frac{1}{N}, \\dots, \\frac{1}{N})\n",
    "$$"
   ]
  },
  {
   "cell_type": "markdown",
   "metadata": {},
   "source": [
    "#### c.\n",
    "$$\n",
    "\\begin{aligned}\n",
    "H(X) + H(Y) - H(XY) &= \\sum_{x} p(x)\\log\\frac{1}{p(x)} + \\sum_{y} p(y)\\log\\frac{1}{p(y)} - \\sum_{x,y} p(x,y)\\log\\frac{1}{p(x,y)} \\\\\n",
    "&= \\sum_{x,y} p(x,y)\\log\\frac{1}{p(x)} + \\sum_{x,y} p(x,y)\\log\\frac{1}{p(y)} - \\sum_{x,y} p(x,y)\\log\\frac{1}{p(x,y)} \\\\\n",
    "&= \\sum_{x,y} p(x,y)\\log\\frac{p(x,y)}{p(x)p(y)} \\\\\n",
    "&= \\mathrm{KL}(p(x,y)||p(x)p(y)) \\geq 0\n",
    "\\end{aligned}\n",
    "$$"
   ]
  },
  {
   "cell_type": "markdown",
   "metadata": {},
   "source": [
    "#### d.\n",
    "$$\n",
    "\\begin{aligned}\n",
    "H(Y) - H(Y|X) &= \\sum_y p(y)\\log\\frac{1}{p(y)} - \\sum_{x,y}p(x,y)\\log\\frac{1}{p(y|x)} \\\\\n",
    "&= \\sum_{x,y}p(x,y)\\log\\frac{p(y|x)}{p(y)} \\\\\n",
    "&= \\sum_{x,y}p(x,y)\\log\\frac{p(x,y)}{p(x)p(y)} \\\\\n",
    "&= \\mathrm{KL}(p(x,y)||p(x)p(y)) \\geq 0\n",
    "\\end{aligned}\n",
    "$$"
   ]
  },
  {
   "cell_type": "markdown",
   "metadata": {},
   "source": [
    "#### e.\n",
    "We can see from c. and d. that\n",
    "$$\n",
    "H(X) + H(Y) - H(XY) = H(Y) - H(Y|X)\n",
    "$$\n",
    "which simplifies to\n",
    "$$\n",
    "H(XY) = H(X) + H(Y|X)\n",
    "$$\n",
    "Apply this to $H(X_1X_2\\dots X_n)$\n",
    "$$\n",
    "H(X_1X_2\\dots X_n) = H(X_1X_2\\dots X_{n-1}) + H(X_n|X_1X_2\\dots X_{n-1})\n",
    "$$\n",
    "Continuing applying this, we prove the chain rule."
   ]
  },
  {
   "cell_type": "markdown",
   "metadata": {},
   "source": [
    "## Problem 2"
   ]
  },
  {
   "cell_type": "markdown",
   "metadata": {},
   "source": [
    "$$\n",
    "\\begin{aligned}\n",
    "H(X) &= -\\sum_{x=1}^{\\infty} p(x)\\log p(x) \\\\\n",
    "&= -\\sum_{x=1}^{\\infty} (1-a)^{x-1}a\\log (1-a)^{x-1}a \\\\\n",
    "&= -\\left[a\\log(1-a)\\cdot\\sum_{x=1}^{\\infty}(x-1)(1-a)^{x-1} + a\\log a\\cdot\\sum_{x=1}^{\\infty}(1-a)^{x-1}\\right] \\\\\n",
    "&= -\\left[a\\log(1-a)\\cdot\\sum_{x=1}^{\\infty}x(1-a)^{x-1} + (a\\log a - a\\log(1-a))\\cdot\\sum_{x=1}^{\\infty}(1-a)^{x-1}\\right] \\\\\n",
    "&= -\\left[a\\log(1-a)\\cdot\\frac{1}{a^2} + (a\\log a - a\\log(1-a))\\cdot \\frac{1}{a}\\right] \\\\\n",
    "&= \\frac{-a\\log a - (1-a)\\log(1-a)}{a} \\\\\n",
    "&= \\frac{H_2(a)}{a}\n",
    "\\end{aligned}\n",
    "$$"
   ]
  },
  {
   "cell_type": "markdown",
   "metadata": {},
   "source": [
    "## Problem 3"
   ]
  },
  {
   "cell_type": "markdown",
   "metadata": {},
   "source": [
    "$$\n",
    "H(XY) \\leq H(X) + H(Y)\n",
    "$$\n",
    "and the equality is achieved only when $X,Y$ independent. So the corresponding joint distribution is\n",
    "\n",
    "| Y\\X | a1 | a2 | a3 |\n",
    "| --- | --- | --- | --- |\n",
    "| b1 | 1/3 | 1/6 | 1/6 |\n",
    "| b2 | 1/12 | 1/24 | 1/24 |\n",
    "| b3 | 1/12 | 1/24 | 1/24 |\n"
   ]
  },
  {
   "cell_type": "markdown",
   "metadata": {},
   "source": [
    "## Problem 4"
   ]
  },
  {
   "cell_type": "markdown",
   "metadata": {},
   "source": [
    "#### a.\n",
    "$$\n",
    "\\begin{aligned}\n",
    "P(X=1|Y=1) &= \\frac{P(X=1)P(Y=1|X=1)}{P(X=1)P(Y=1|X=1) + P(X=0)P(Y=1|X=0)} \\\\\n",
    "&= \\frac{0.25\\times 0.5}{0.25\\times 0.5 + 0.75\\times 0.1} \\\\\n",
    "&= 0.625\n",
    "\\end{aligned}\n",
    "$$\n",
    "then $P(X=0|Y=1) = 0.375$\n",
    "$$\n",
    "H(X|Y=1) = -0.625\\log 0.625 - 0.375\\log 0.375 = 0.954\n",
    "$$\n",
    "while\n",
    "$$\n",
    "H(X) = -0.75\\log 0.75 - 0.25\\log 0.25 = 0.811\n",
    "$$\n",
    "No."
   ]
  },
  {
   "cell_type": "markdown",
   "metadata": {},
   "source": [
    "#### b.\n",
    "$$\n",
    "\\begin{aligned}\n",
    "P(X=1|Z=1) &= \\frac{P(X=1)P(Z=1|X=1)}{P(X=1)P(Z=1|X=1) + P(X=0)P(Z=1|X=0)} \\\\\n",
    "&= \\frac{0.25\\times (0.5 + 0.5\\times 0.25)}{0.25\\times (0.5 + 0.5\\times 0.25) + 0.75\\times (0.1 + 0.9\\times 0.25)} \\\\\n",
    "&= 0.390625\n",
    "\\end{aligned}\n",
    "$$\n",
    "then $P(X=0|Z=1) = 0.609375$\n",
    "$$\n",
    "H(X|Z=1) = -0.609375\\log 0.609375 - 0.390625\\log 0.390625 = 0.965\n",
    "$$\n",
    "No."
   ]
  },
  {
   "cell_type": "markdown",
   "metadata": {},
   "source": [
    "#### c.\n",
    "$$\n",
    "\\begin{aligned}\n",
    "P(Y=1) &= P(X=1)P(Y=1|X=1) + P(X=0)P(Y=1|X=0) \\\\\n",
    "&= 0.25\\times 0.5 + 0.75\\times 0.1 \\\\\n",
    "&= 0.2\n",
    "\\end{aligned}\n",
    "$$\n",
    "$$\n",
    "\\begin{aligned}\n",
    "P(X=1|Y=0) &= \\frac{P(X=1)P(Y=0|X=1)}{P(X=1)P(Y=0|X=1) + P(X=0)P(Y=0|X=0)} \\\\\n",
    "&= \\frac{0.25\\times 0.5}{0.25\\times 0.5 + 0.75\\times 0.9} \\\\\n",
    "&= 0.15625\n",
    "\\end{aligned}\n",
    "$$\n",
    "then $P(X=0|Y=0) = 0.84375$\n",
    "$$\n",
    "H(X|Y=0) = -0.84375\\log 0.84375 - 0.15625\\log 0.15625 = 0.625\n",
    "$$\n",
    "$$\n",
    "H(X|Y) = P(Y=0)H(X|Y=0) + P(Y=1)H(X|Y=1) = 0.8*0.625 + 0.2*0.954 = 0.69\n",
    "$$\n",
    "Similarly\n",
    "$$\n",
    "P(Z=1) = 0.4,\\quad H(X|Z=0) = 0.625\n",
    "$$\n",
    "$$\n",
    "H(X|Z) = P(Z=0)H(X|Z=0) + P(Z=1)H(X|Z=1) = 0.6*0.625 + 0.4*0.965 = 0.76\n",
    "$$"
   ]
  },
  {
   "cell_type": "markdown",
   "metadata": {},
   "source": [
    "## Problem 5"
   ]
  },
  {
   "cell_type": "markdown",
   "metadata": {},
   "source": [
    "Lagrange objective\n",
    "$$\n",
    "\\mathcal{L}(p;\\lambda,\\nu) = -\\sum_{n=1}^{\\infty}p_n\\log p_n + \\lambda\\left(\\sum_{n=0}^{\\infty}np_n - A\\right) + \\nu\\left(\\sum_{n=0}^{\\infty} p_n - 1\\right)\n",
    "$$\n",
    "Take derivative and let it be zero\n",
    "$$\n",
    "\\frac{\\partial \\mathcal{L}}{\\partial p_n} = -(\\log p_n + 1) + \\lambda n + \\nu = 0\n",
    "$$\n",
    "we have\n",
    "$$\n",
    "p_n = 2^{\\lambda n + \\nu - 1}\n",
    "$$\n",
    "And according to\n",
    "$$\n",
    "\\begin{aligned}\n",
    "\\sum_{n=0}^{\\infty}np_n &= \\frac{2^{\\nu}}{\\lambda}\\sum_{n=0}^{\\infty}\\lambda n\\cdot 2^{\\lambda n - 1} \\\\\n",
    "&= \\frac{2^{\\nu}}{\\lambda}\\cdot \\frac{\\lambda 2^{\\lambda - 1}}{(1 - 2^{\\lambda})^2} \\\\\n",
    "&= A\n",
    "\\end{aligned}\n",
    "$$\n",
    "$$\n",
    "\\begin{aligned}\n",
    "\\sum_{n=0}^{\\infty}p_n &= \\sum_{n=0}^{\\infty} 2^{\\lambda n + \\nu - 1} \\\\\n",
    "&= \\frac{2^{\\nu - 1}}{1 - 2^{\\lambda}} \\\\\n",
    "&= 1\n",
    "\\end{aligned}\n",
    "$$\n",
    "we get\n",
    "$$\n",
    "\\lambda = \\log_2 \\frac{A}{A+1}\n",
    "$$\n",
    "$$\n",
    "\\nu = \\log_2 \\frac{1}{A+1} + 1\n",
    "$$\n",
    "Thus\n",
    "$$\n",
    "p_n = \\left(\\frac{A}{A+1}\\right)^n\\frac{1}{A+1}\n",
    "$$\n",
    "which is a geometric distribution."
   ]
  }
 ],
 "metadata": {
  "kernelspec": {
   "display_name": "Python 2",
   "language": "python",
   "name": "python2"
  },
  "language_info": {
   "codemirror_mode": {
    "name": "ipython",
    "version": 2
   },
   "file_extension": ".py",
   "mimetype": "text/x-python",
   "name": "python",
   "nbconvert_exporter": "python",
   "pygments_lexer": "ipython2",
   "version": "2.7.11+"
  }
 },
 "nbformat": 4,
 "nbformat_minor": 0
}
