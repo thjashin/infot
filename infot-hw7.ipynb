{
 "cells": [
  {
   "cell_type": "code",
   "execution_count": 1,
   "metadata": {
    "collapsed": true
   },
   "outputs": [],
   "source": [
    "import numpy as np\n",
    "import scipy\n",
    "from scipy import stats\n",
    "import matplotlib.pyplot as plt\n",
    "%matplotlib inline\n",
    "\n",
    "np.random.seed(1234)"
   ]
  },
  {
   "cell_type": "markdown",
   "metadata": {},
   "source": [
    "## Problem 1"
   ]
  },
  {
   "cell_type": "markdown",
   "metadata": {},
   "source": [
    "Let $P(X=1) = p$\n",
    "#### a = 0\n",
    "$Y = X$, thus $I(X;Y) = H(X) = H_2(p)$, so\n",
    "$$\n",
    "C = \\max_{p}H_2(p) = 1\\;\\mathrm{bit}\n",
    "$$\n",
    "#### a = 1\n",
    "The values of $Y$ can be 0,1,2, and the probabilities are $0.5(1-p)$, $0.5p$, $0.5p$. So\n",
    "$$\n",
    "H(Y) = 0.5H_2(p) + 1\n",
    "$$\n",
    "$$\n",
    "H(Y|X) = (1-p)H(Y|X=0) + pH(Y|X=1) = H_2(0.5) = 1\n",
    "$$\n",
    "Thus\n",
    "$$\n",
    "C = \\max_{p}I(X;Y) = \\max_{p}(H(Y) - H(Y|X)) = \\max_{p}0.5H_2(p) = 0.5\\;\\mathrm{bit}\n",
    "$$\n",
    "#### a = -1\n",
    "Similar to $a=1$,\n",
    "$$\n",
    "C = 0.5\\;\\mathrm{bit}\n",
    "$$\n",
    "#### a = others\n",
    "In this condition, given $Y$, $X$ and $Z$ can be determined, so\n",
    "$$\n",
    "C = \\max_{p}I(X;Y) = \\max_p(H(X) - H(X|Y)) = \\max_p(H_2(p) - 0) = 1\\;\\mathrm{bit}\n",
    "$$"
   ]
  },
  {
   "cell_type": "markdown",
   "metadata": {},
   "source": [
    "## Problem 2"
   ]
  },
  {
   "cell_type": "markdown",
   "metadata": {},
   "source": [
    "$$\n",
    "\\begin{aligned}\n",
    "C &= \\max_{p(X)} I(X;Y) \\\\\n",
    "&= \\max_{p(X)} \\left\\{H(Y) - H(Y|X)\\right\\} \\\\\n",
    "&= \\max_{p(X)} \\left\\{H(Y) - \\log_2 4\\right\\} \\\\\n",
    "&= \\max_{p(X)} H(Y) - 2\n",
    "\\end{aligned}\n",
    "$$\n",
    "So when $Y$ is uniform, which implies $X$ is uniform, the maximum is achieved.\n",
    "$$\n",
    "C = \\log_2 11 - 2\n",
    "$$"
   ]
  },
  {
   "cell_type": "markdown",
   "metadata": {},
   "source": [
    "## Problem 3"
   ]
  },
  {
   "cell_type": "markdown",
   "metadata": {},
   "source": [
    "Because $Y_i$ conditional independent given $X_i$,\n",
    "$$\n",
    "\\begin{aligned}\n",
    "C &= \\max_{p(\\mathbf{X})} I(\\mathbf{X};\\mathbf{Y}) \\\\\n",
    "&= \\max_{p(\\mathbf{X})} H(\\mathbf{Y}) - H(\\mathbf{Y}|\\mathbf{X}) \\\\\n",
    "&= \\max_{p(\\mathbf{X})} H(\\mathbf{Y}) - \\sum_{i=1}^n H(Y_i|X) \\\\\n",
    "&= \\max_{p(\\mathbf{X})} H(\\mathbf{Y}) - \\sum_{i=1}^n H(Y_i|X_i) \\\\\n",
    "&= \\max_{p(\\mathbf{X})} H(\\mathbf{Y}) - \\sum_{i=1}^nH_2(f_i)\n",
    "\\end{aligned}\n",
    "$$\n",
    "So when $\\mathbf{Y}$ is uniform, the maximum is achieved.\n",
    "$$\n",
    "C = n - \\sum_{i=1}^nH_2(f_i)\n",
    "$$"
   ]
  }
 ],
 "metadata": {
  "kernelspec": {
   "display_name": "Python 2",
   "language": "python",
   "name": "python2"
  },
  "language_info": {
   "codemirror_mode": {
    "name": "ipython",
    "version": 2
   },
   "file_extension": ".py",
   "mimetype": "text/x-python",
   "name": "python",
   "nbconvert_exporter": "python",
   "pygments_lexer": "ipython2",
   "version": "2.7.11+"
  }
 },
 "nbformat": 4,
 "nbformat_minor": 0
}
